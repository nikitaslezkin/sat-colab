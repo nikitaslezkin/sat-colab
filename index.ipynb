{
 "cells": [
  {
   "cell_type": "markdown",
   "metadata": {
    "id": "MR3F-woo5a0C"
   },
   "source": [
    "If you are new to Python notebooks, we encourage you to go through an overview at, for example, [Google Colab](https://colab.research.google.com/notebooks/basic_features_overview.ipynb)."
   ]
  },
  {
   "cell_type": "markdown",
   "metadata": {
    "id": "j_oyfECK5a0H"
   },
   "source": [
    "## Table of Contents"
   ]
  },
  {
   "cell_type": "markdown",
   "metadata": {
    "id": "ljO6lahB5a0H"
   },
   "source": [
    "[Chapter 1. Proofs: Convincing Arguments](mod3_check.ipynb)\n",
    "\n",
    "[Chapter 2. Finding an Example](02_finding_an_example.ipynb)\n",
    "\n",
    "[Chapter 3. Recursion and Induction](03_recursion_and_induction.ipynb)\n",
    "\n",
    "[Chapter 4. Logic](04_logic.ipynb)\n",
    "\n",
    "[Chapter 5. Invariants](05_invariants.ipynb)"
   ]
  }
 ],
 "metadata": {
  "colab": {
   "collapsed_sections": [],
   "name": "index.ipynb",
   "provenance": []
  },
  "kernelspec": {
   "display_name": "Python 3",
   "language": "python",
   "name": "python3"
  },
  "language_info": {
   "codemirror_mode": {
    "name": "ipython",
    "version": 3
   },
   "file_extension": ".py",
   "mimetype": "text/x-python",
   "name": "python",
   "nbconvert_exporter": "python",
   "pygments_lexer": "ipython3",
   "version": "3.7.9"
  }
 },
 "nbformat": 4,
 "nbformat_minor": 1
}
